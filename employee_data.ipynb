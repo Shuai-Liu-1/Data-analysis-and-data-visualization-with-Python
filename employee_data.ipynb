import os
os.getcwd()#current working directory
# Change the current working directory 
#output result will saved in the cwd
#os.chdir('C://Users//shuail') *
os.chdir('C:/Shuai/workshop/Python for Data Analytics')
os.getcwd()

![3n8tRry6fYg7sNyhFDPQwR-320-80.jpg](attachment:3n8tRry6fYg7sNyhFDPQwR-320-80.jpg)

introduce pandas: https://pandas.pydata.org/
import pandas as pd
df=pd.read_csv("Employee data.csv")
df
#df.head()#Select first 5 rows
df.tail()
df.shape
**1. read other type of files?**

**2.data type?** *
1. object
* text
* numerica + non-numeric

2. numeric

* integer
* float

df.dtypes
df['salary'].describe()
df['gender'].describe()
df['prevexp'].describe()
df[df['prevexp']=='missing']
1. remove missing 
2. impute 
3. predict the missing 
## 1. anaylsis gender
df['gender'].describe()
df['gender'].unique() #*
df['educ'].unique()
# fliter. how many datapoints that gender==male 
male=df[df['gender']=='Male']
male.shape
female=df[df['gender']=='Female']
female.shape
**more filters?**
df[(df['gender']=='Female')&(df['jobcat']=='Manager')]
df[(df['gender']=='Female')&(df['jobcat']=='Manager') & (df['educ']>15)]
df[(df['educ']==8)| (df['educ']==17)]

#combine 2 dataframe
pd.concat([female,male]).sort_index()
# more detail in cheat_sheet
#save dataframe to csv
female.to_csv('female.csv')
**save dataframe to other datatype?** 

## 2. salary analysis 
df['salary'].describe()
**What is Quartiles?**
import matplotlib.pyplot as plt
import plotly.express as px
plt.figure(figsize=(6, 4))
fig = px.box(df, y='salary')
fig.show()
**add a filter to get a dataframe that salary is higher than mean value**
take a few seconds to think about how to write the code.
#coding below:

# one filter that salary above mean
df[df['salary']>34419.567511]
sorted=df.sort_values("salary",ascending=False)#high to low
sorted
# more detail in cheat_sheet
#add a columns named state, value is AR
df['state']="AR"
df
#drop columns
df=df.drop(columns='state')
df
## plot 
matplotlib: https://matplotlib.org/
import matplotlib.pyplot as plt

plt.hist(df['gender'],bins=4,color='green')#histogram plot
plt.title('Gender count')
plt.xlabel('Gender')
plt.ylabel('Count')

plt.show()
plt.hist(df['salary'],color='g')#density 
plt.title('Salary distribution')
plt.xlabel('Salary')
plt.ylabel('distribution')

plt.show()
**different between 2 plot?**
## more density plots 
https://seaborn.pydata.org/index.html

install # pip install seaborn
import seaborn as sns

#https://seaborn.pydata.org/generated/seaborn.distplot.html

sns.distplot(x=df['salary'], rug=True, hist=True,color='r')
# rug:Whether to draw a rugplot on the support axis.
#hist: Whether to plot a (normed) histogram.
plt.show()
#density for 2 variables
#https://seaborn.pydata.org/generated/seaborn.jointplot.html
sns.jointplot(x=df['salary'],y=df['educ'], kind='hex')

# hex:hexagonal bins

fig1=sns.jointplot(x=df['salary'],y=df['educ'],kind='kde',hue=df['gender'])
#salary,educ,gender

fig2=sns.jointplot(x=df['salary'],y=df['educ'],kind='kde',hue=df['jobcat'])

fig2.savefig('salary & gender & jobcat')

## plotly express

install: pip install plotly==5.8.0
https://plotly.com/python/plotly-express/
#density for 2 variables
import plotly.express as px
plt.figure(figsize=(10, 6))
fig3=px.density_heatmap(df,x='salary',y='educ')
fig3
# you may need install kaleido first.
#pip install -U kaleido
import plotly
plotly.offline.plot(fig3, filename='heat_map.html')
**Dashboard with Plotly**
